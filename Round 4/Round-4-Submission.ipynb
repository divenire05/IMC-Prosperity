{
 "cells": [
  {
   "cell_type": "code",
   "execution_count": 13,
   "id": "6b3da49a-be96-4d92-aa74-7d288df2e3c1",
   "metadata": {},
   "outputs": [
    {
     "ename": "ModuleNotFoundError",
     "evalue": "No module named 'datamodel'",
     "output_type": "error",
     "traceback": [
      "\u001b[0;31m---------------------------------------------------------------------------\u001b[0m",
      "\u001b[0;31mModuleNotFoundError\u001b[0m                       Traceback (most recent call last)",
      "Cell \u001b[0;32mIn[13], line 2\u001b[0m\n\u001b[1;32m      1\u001b[0m \u001b[38;5;28;01mfrom\u001b[39;00m \u001b[38;5;21;01mtyping\u001b[39;00m \u001b[38;5;28;01mimport\u001b[39;00m Dict, List\n\u001b[0;32m----> 2\u001b[0m \u001b[38;5;28;01mfrom\u001b[39;00m \u001b[38;5;21;01mdatamodel\u001b[39;00m \u001b[38;5;28;01mimport\u001b[39;00m Order, OrderDepth, TradingState, Trade\n\u001b[1;32m      3\u001b[0m \u001b[38;5;28;01mimport\u001b[39;00m \u001b[38;5;21;01mjson\u001b[39;00m\n\u001b[1;32m      4\u001b[0m \u001b[38;5;28;01mimport\u001b[39;00m \u001b[38;5;21;01mmath\u001b[39;00m\n",
      "\u001b[0;31mModuleNotFoundError\u001b[0m: No module named 'datamodel'"
     ]
    }
   ],
   "source": [
    "from typing import Dict, List\n",
    "from datamodel import Order, OrderDepth, TradingState, Trade\n",
    "import json\n",
    "import math\n",
    "import statistics\n",
    "from datamodel import OrderDepth, TradingState, Order, ConversionObservation\n",
    "from typing import List\n",
    "\n",
    "class Trader:\n",
    "    def __init__(self):\n",
    "        # Learned model parameters\n",
    "        self.intercept = 275.811207\n",
    "        self.coef_sugar = 2.771193\n",
    "        self.coef_sunlight = -3.127103\n",
    "        # Threshold (buffer) around fair price to avoid overtrading\n",
    "        self.margin = 1.0  # 1 seashell\n",
    "\n",
    "    def run(self, state: TradingState):\n",
    "        orders = {}\n",
    "        # --- Handle MACARONS trading using regression model ---\n",
    "        product = \"MAGNIFICENT_MACARONS\"\n",
    "        if product in state.order_depths:\n",
    "            od: OrderDepth = state.order_depths[product]\n",
    "            conv_obs: ConversionObservation = state.observations.get(product)\n",
    "\n",
    "            # Compute fair price\n",
    "            fair_price = (\n",
    "                self.intercept +\n",
    "                self.coef_sugar * conv_obs.sugarPrice +\n",
    "                self.coef_sunlight * conv_obs.sunlightIndex\n",
    "            )\n",
    "            # Include daily storage cost of 0.1 per unit if we hold overnight\n",
    "            storage_cost = 0.1\n",
    "            fair_price -= storage_cost\n",
    "\n",
    "            # Best available prices\n",
    "            best_ask = min(od.sell_orders) if od.sell_orders else None\n",
    "            best_bid = max(od.buy_orders)  if od.buy_orders  else None\n",
    "\n",
    "            mac_orders: List[Order] = []\n",
    "\n",
    "            # BUY logic: if ask < fair_price - margin, buy up to limit\n",
    "            if best_ask is not None and best_ask < fair_price - self.margin:\n",
    "                ask_vol = od.sell_orders[best_ask]\n",
    "                qty = min(-ask_vol, 10)  # limit order size small\n",
    "                mac_orders.append(Order(product, best_ask, qty))\n",
    "\n",
    "            # SELL logic: if bid > fair_price + margin, sell up to limit\n",
    "            if best_bid is not None and best_bid > fair_price + self.margin:\n",
    "                bid_vol = od.buy_orders[best_bid]\n",
    "                qty = min(bid_vol, 10)\n",
    "                mac_orders.append(Order(product, best_bid, -qty))\n",
    "\n",
    "            orders[product] = mac_orders\n",
    "\n",
    "        # --- Conversion for MACARONS if sunlight is strongly below CSI ---\n",
    "        # If sunlight index remains below critical value for a long period,\n",
    "        # demand panic should drive price up, so convert short positions to long\n",
    "        CSI = 65\n",
    "        if conv_obs and conv_obs.sunlightIndex < CSI:\n",
    "            # request conversion of up to 10 units to cover a short or build a long\n",
    "            orders_conversions = min(abs(state.position.get(product, 0)), 10)\n",
    "        else:\n",
    "            orders_conversions = 0\n",
    "\n",
    "        return orders, orders_conversions, \"\""
   ]
  },
  {
   "cell_type": "code",
   "execution_count": null,
   "id": "2001a388-1434-4c8d-984a-b9273afc4819",
   "metadata": {},
   "outputs": [],
   "source": []
  }
 ],
 "metadata": {
  "kernelspec": {
   "display_name": "Python 3 (ipykernel)",
   "language": "python",
   "name": "python3"
  },
  "language_info": {
   "codemirror_mode": {
    "name": "ipython",
    "version": 3
   },
   "file_extension": ".py",
   "mimetype": "text/x-python",
   "name": "python",
   "nbconvert_exporter": "python",
   "pygments_lexer": "ipython3",
   "version": "3.12.7"
  }
 },
 "nbformat": 4,
 "nbformat_minor": 5
}
