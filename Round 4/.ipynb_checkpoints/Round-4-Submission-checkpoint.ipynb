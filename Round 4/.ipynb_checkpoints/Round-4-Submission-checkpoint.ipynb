{
 "cells": [
  {
   "cell_type": "code",
   "execution_count": 16,
   "id": "6b3da49a-be96-4d92-aa74-7d288df2e3c1",
   "metadata": {},
   "outputs": [
    {
     "ename": "ModuleNotFoundError",
     "evalue": "No module named 'datamodel'",
     "output_type": "error",
     "traceback": [
      "\u001b[0;31m---------------------------------------------------------------------------\u001b[0m",
      "\u001b[0;31mModuleNotFoundError\u001b[0m                       Traceback (most recent call last)",
      "Cell \u001b[0;32mIn[16], line 1\u001b[0m\n\u001b[0;32m----> 1\u001b[0m \u001b[38;5;28;01mfrom\u001b[39;00m \u001b[38;5;21;01mdatamodel\u001b[39;00m \u001b[38;5;28;01mimport\u001b[39;00m OrderDepth, TradingState, Order, ConversionObservation\n\u001b[1;32m      2\u001b[0m \u001b[38;5;28;01mfrom\u001b[39;00m \u001b[38;5;21;01mtyping\u001b[39;00m \u001b[38;5;28;01mimport\u001b[39;00m List\n\u001b[1;32m      4\u001b[0m \u001b[38;5;28;01mclass\u001b[39;00m \u001b[38;5;21;01mTrader\u001b[39;00m:\n",
      "\u001b[0;31mModuleNotFoundError\u001b[0m: No module named 'datamodel'"
     ]
    }
   ],
   "source": [
    "from datamodel import OrderDepth, TradingState, Order, ConversionObservation\n",
    "from typing import List\n",
    "\n",
    "class Trader:\n",
    "\n",
    "    def __init__(self):\n",
    "        # fixed parameters\n",
    "        self.CSI            = 65      # critical sunlight index\n",
    "        self.storage_cost   = 0.10    # per macaron per day\n",
    "        self.margin         = 3.0     # only trade if market >3 seashells from fair\n",
    "        self.max_trade_size = 5       # limit each fill\n",
    "        \n",
    "        # sugar→macaron anchor\n",
    "        self.sugar_to_macaron = 0.08  # 8% of sugar price\n",
    "\n",
    "        # low‑sun premium factor\n",
    "        self.premium_per_sun = 0.30   # each point below CSI adds 0.3 seashells\n",
    "\n",
    "    def run(self, state: TradingState):\n",
    "        orders = {}\n",
    "        conversions = 0\n",
    "\n",
    "        prod = \"MAGNIFICENT_MACARONS\"\n",
    "        od_map = state.order_depths\n",
    "        conv_map = state.observations.conversionObservations\n",
    "\n",
    "        # only proceed if we have both market data and conversion data\n",
    "        if prod in od_map and prod in conv_map:\n",
    "            od: OrderDepth = od_map[prod]\n",
    "            obs: ConversionObservation = conv_map[prod]\n",
    "\n",
    "            # 1) Base fair price from sugar cost\n",
    "            base_fair = obs.sugarPrice * self.sugar_to_macaron\n",
    "\n",
    "            # 2) Add low‑sun premium if sunlight < CSI\n",
    "            sun_deficit = max(0.0, self.CSI - obs.sunlightIndex)\n",
    "            premium    = sun_deficit * self.premium_per_sun\n",
    "\n",
    "            # 3) subtract storage cost\n",
    "            fair_price = base_fair + premium - self.storage_cost\n",
    "\n",
    "            # 4) pull best bid/ask\n",
    "            best_ask = min(od.sell_orders) if od.sell_orders else None\n",
    "            best_bid = max(od.buy_orders)  if od.buy_orders  else None\n",
    "\n",
    "            mac_orders: List[Order] = []\n",
    "\n",
    "            # 5) only buy if ask < fair − margin\n",
    "            if best_ask is not None and best_ask < fair_price - self.margin:\n",
    "                avail = -od.sell_orders[best_ask]\n",
    "                qty   = min(avail, self.max_trade_size)\n",
    "                mac_orders.append(Order(prod, best_ask,  qty))\n",
    "\n",
    "            # 6) only sell if bid > fair + margin\n",
    "            if best_bid is not None and best_bid > fair_price + self.margin:\n",
    "                avail = od.buy_orders[best_bid]\n",
    "                qty   = min(avail, self.max_trade_size)\n",
    "                mac_orders.append(Order(prod, best_bid, -qty))\n",
    "\n",
    "            orders[prod] = mac_orders\n",
    "\n",
    "            # 7) conversion: if sun is deep below CSI, convert shorts→longs\n",
    "            if obs.sunlightIndex < self.CSI:\n",
    "                pos = state.position.get(prod, 0)\n",
    "                # only convert if we’re short\n",
    "                if pos < 0:\n",
    "                    conversions = min(abs(pos), 10)\n",
    "\n",
    "        return orders, conversions, \"\"\n"
   ]
  },
  {
   "cell_type": "code",
   "execution_count": null,
   "id": "2001a388-1434-4c8d-984a-b9273afc4819",
   "metadata": {},
   "outputs": [],
   "source": []
  }
 ],
 "metadata": {
  "kernelspec": {
   "display_name": "Python 3 (ipykernel)",
   "language": "python",
   "name": "python3"
  },
  "language_info": {
   "codemirror_mode": {
    "name": "ipython",
    "version": 3
   },
   "file_extension": ".py",
   "mimetype": "text/x-python",
   "name": "python",
   "nbconvert_exporter": "python",
   "pygments_lexer": "ipython3",
   "version": "3.12.7"
  }
 },
 "nbformat": 4,
 "nbformat_minor": 5
}
